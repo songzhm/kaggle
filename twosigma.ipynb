{
 "cells": [
  {
   "cell_type": "code",
   "execution_count": 2,
   "metadata": {
    "collapsed": true
   },
   "outputs": [],
   "source": [
    "import pandas as pd\n",
    "\n",
    "with pd.HDFStore(\"../input/train.h5\", \"r\") as train:\n",
    "    # Note that the \"train\" dataframe is the only dataframe in the file\n",
    "    df = train.get(\"train\")"
   ]
  },
  {
   "cell_type": "code",
   "execution_count": 3,
   "metadata": {
    "collapsed": true
   },
   "outputs": [],
   "source": [
    "import kagglegym"
   ]
  },
  {
   "cell_type": "code",
   "execution_count": 4,
   "metadata": {
    "collapsed": false
   },
   "outputs": [],
   "source": [
    "env = kagglegym.make()"
   ]
  },
  {
   "cell_type": "code",
   "execution_count": 5,
   "metadata": {
    "collapsed": true
   },
   "outputs": [],
   "source": [
    "observation = env.reset()"
   ]
  },
  {
   "cell_type": "code",
   "execution_count": 6,
   "metadata": {
    "collapsed": false
   },
   "outputs": [
    {
     "data": {
      "text/html": [
       "<div>\n",
       "<table border=\"1\" class=\"dataframe\">\n",
       "  <thead>\n",
       "    <tr style=\"text-align: right;\">\n",
       "      <th></th>\n",
       "      <th>id</th>\n",
       "      <th>timestamp</th>\n",
       "      <th>derived_0</th>\n",
       "      <th>derived_1</th>\n",
       "      <th>derived_2</th>\n",
       "      <th>derived_3</th>\n",
       "      <th>derived_4</th>\n",
       "      <th>fundamental_0</th>\n",
       "      <th>fundamental_1</th>\n",
       "      <th>fundamental_2</th>\n",
       "      <th>...</th>\n",
       "      <th>technical_36</th>\n",
       "      <th>technical_37</th>\n",
       "      <th>technical_38</th>\n",
       "      <th>technical_39</th>\n",
       "      <th>technical_40</th>\n",
       "      <th>technical_41</th>\n",
       "      <th>technical_42</th>\n",
       "      <th>technical_43</th>\n",
       "      <th>technical_44</th>\n",
       "      <th>y</th>\n",
       "    </tr>\n",
       "  </thead>\n",
       "  <tbody>\n",
       "    <tr>\n",
       "      <th>0</th>\n",
       "      <td>10</td>\n",
       "      <td>0</td>\n",
       "      <td>0.370326</td>\n",
       "      <td>-0.006316</td>\n",
       "      <td>0.222831</td>\n",
       "      <td>-0.213030</td>\n",
       "      <td>0.729277</td>\n",
       "      <td>-0.335633</td>\n",
       "      <td>0.113292</td>\n",
       "      <td>1.621238</td>\n",
       "      <td>...</td>\n",
       "      <td>0.775208</td>\n",
       "      <td>NaN</td>\n",
       "      <td>NaN</td>\n",
       "      <td>NaN</td>\n",
       "      <td>-0.414776</td>\n",
       "      <td>NaN</td>\n",
       "      <td>NaN</td>\n",
       "      <td>-2.0</td>\n",
       "      <td>NaN</td>\n",
       "      <td>-0.011753</td>\n",
       "    </tr>\n",
       "    <tr>\n",
       "      <th>1</th>\n",
       "      <td>11</td>\n",
       "      <td>0</td>\n",
       "      <td>0.014765</td>\n",
       "      <td>-0.038064</td>\n",
       "      <td>-0.017425</td>\n",
       "      <td>0.320652</td>\n",
       "      <td>-0.034134</td>\n",
       "      <td>0.004413</td>\n",
       "      <td>0.114285</td>\n",
       "      <td>-0.210185</td>\n",
       "      <td>...</td>\n",
       "      <td>0.025590</td>\n",
       "      <td>NaN</td>\n",
       "      <td>NaN</td>\n",
       "      <td>NaN</td>\n",
       "      <td>-0.273607</td>\n",
       "      <td>NaN</td>\n",
       "      <td>NaN</td>\n",
       "      <td>-2.0</td>\n",
       "      <td>NaN</td>\n",
       "      <td>-0.001240</td>\n",
       "    </tr>\n",
       "    <tr>\n",
       "      <th>2</th>\n",
       "      <td>12</td>\n",
       "      <td>0</td>\n",
       "      <td>-0.010622</td>\n",
       "      <td>-0.050577</td>\n",
       "      <td>3.379575</td>\n",
       "      <td>-0.157525</td>\n",
       "      <td>-0.068550</td>\n",
       "      <td>-0.155937</td>\n",
       "      <td>1.219439</td>\n",
       "      <td>-0.764516</td>\n",
       "      <td>...</td>\n",
       "      <td>0.151881</td>\n",
       "      <td>NaN</td>\n",
       "      <td>NaN</td>\n",
       "      <td>NaN</td>\n",
       "      <td>-0.175710</td>\n",
       "      <td>NaN</td>\n",
       "      <td>NaN</td>\n",
       "      <td>-2.0</td>\n",
       "      <td>NaN</td>\n",
       "      <td>-0.020940</td>\n",
       "    </tr>\n",
       "    <tr>\n",
       "      <th>3</th>\n",
       "      <td>25</td>\n",
       "      <td>0</td>\n",
       "      <td>NaN</td>\n",
       "      <td>NaN</td>\n",
       "      <td>NaN</td>\n",
       "      <td>NaN</td>\n",
       "      <td>NaN</td>\n",
       "      <td>0.178495</td>\n",
       "      <td>NaN</td>\n",
       "      <td>-0.007262</td>\n",
       "      <td>...</td>\n",
       "      <td>1.035936</td>\n",
       "      <td>NaN</td>\n",
       "      <td>NaN</td>\n",
       "      <td>NaN</td>\n",
       "      <td>-0.211506</td>\n",
       "      <td>NaN</td>\n",
       "      <td>NaN</td>\n",
       "      <td>-2.0</td>\n",
       "      <td>NaN</td>\n",
       "      <td>-0.015959</td>\n",
       "    </tr>\n",
       "    <tr>\n",
       "      <th>4</th>\n",
       "      <td>26</td>\n",
       "      <td>0</td>\n",
       "      <td>0.176693</td>\n",
       "      <td>-0.025284</td>\n",
       "      <td>-0.057680</td>\n",
       "      <td>0.015100</td>\n",
       "      <td>0.180894</td>\n",
       "      <td>0.139445</td>\n",
       "      <td>-0.125687</td>\n",
       "      <td>-0.018707</td>\n",
       "      <td>...</td>\n",
       "      <td>0.630232</td>\n",
       "      <td>NaN</td>\n",
       "      <td>NaN</td>\n",
       "      <td>NaN</td>\n",
       "      <td>-0.001957</td>\n",
       "      <td>NaN</td>\n",
       "      <td>NaN</td>\n",
       "      <td>0.0</td>\n",
       "      <td>NaN</td>\n",
       "      <td>-0.007338</td>\n",
       "    </tr>\n",
       "  </tbody>\n",
       "</table>\n",
       "<p>5 rows × 111 columns</p>\n",
       "</div>"
      ],
      "text/plain": [
       "   id  timestamp  derived_0  derived_1  derived_2  derived_3  derived_4  \\\n",
       "0  10          0   0.370326  -0.006316   0.222831  -0.213030   0.729277   \n",
       "1  11          0   0.014765  -0.038064  -0.017425   0.320652  -0.034134   \n",
       "2  12          0  -0.010622  -0.050577   3.379575  -0.157525  -0.068550   \n",
       "3  25          0        NaN        NaN        NaN        NaN        NaN   \n",
       "4  26          0   0.176693  -0.025284  -0.057680   0.015100   0.180894   \n",
       "\n",
       "   fundamental_0  fundamental_1  fundamental_2    ...     technical_36  \\\n",
       "0      -0.335633       0.113292       1.621238    ...         0.775208   \n",
       "1       0.004413       0.114285      -0.210185    ...         0.025590   \n",
       "2      -0.155937       1.219439      -0.764516    ...         0.151881   \n",
       "3       0.178495            NaN      -0.007262    ...         1.035936   \n",
       "4       0.139445      -0.125687      -0.018707    ...         0.630232   \n",
       "\n",
       "   technical_37  technical_38  technical_39  technical_40  technical_41  \\\n",
       "0           NaN           NaN           NaN     -0.414776           NaN   \n",
       "1           NaN           NaN           NaN     -0.273607           NaN   \n",
       "2           NaN           NaN           NaN     -0.175710           NaN   \n",
       "3           NaN           NaN           NaN     -0.211506           NaN   \n",
       "4           NaN           NaN           NaN     -0.001957           NaN   \n",
       "\n",
       "   technical_42  technical_43  technical_44         y  \n",
       "0           NaN          -2.0           NaN -0.011753  \n",
       "1           NaN          -2.0           NaN -0.001240  \n",
       "2           NaN          -2.0           NaN -0.020940  \n",
       "3           NaN          -2.0           NaN -0.015959  \n",
       "4           NaN           0.0           NaN -0.007338  \n",
       "\n",
       "[5 rows x 111 columns]"
      ]
     },
     "execution_count": 6,
     "metadata": {},
     "output_type": "execute_result"
    }
   ],
   "source": [
    "observation.train.head()"
   ]
  },
  {
   "cell_type": "code",
   "execution_count": 7,
   "metadata": {
    "collapsed": false
   },
   "outputs": [
    {
     "data": {
      "text/plain": [
       "806298"
      ]
     },
     "execution_count": 7,
     "metadata": {},
     "output_type": "execute_result"
    }
   ],
   "source": [
    "len(observation.train)"
   ]
  },
  {
   "cell_type": "code",
   "execution_count": 8,
   "metadata": {
    "collapsed": false
   },
   "outputs": [
    {
     "data": {
      "text/plain": [
       "906"
      ]
     },
     "execution_count": 8,
     "metadata": {},
     "output_type": "execute_result"
    }
   ],
   "source": [
    "len(observation.train[\"timestamp\"].unique())"
   ]
  },
  {
   "cell_type": "code",
   "execution_count": 9,
   "metadata": {
    "collapsed": false
   },
   "outputs": [
    {
     "data": {
      "text/plain": [
       "(0, 905)"
      ]
     },
     "execution_count": 9,
     "metadata": {},
     "output_type": "execute_result"
    }
   ],
   "source": [
    "unique_times = list(observation.train[\"timestamp\"].unique())\n",
    "(min(unique_times),max(unique_times))"
   ]
  },
  {
   "cell_type": "code",
   "execution_count": 10,
   "metadata": {
    "collapsed": false
   },
   "outputs": [
    {
     "data": {
      "text/html": [
       "<div>\n",
       "<table border=\"1\" class=\"dataframe\">\n",
       "  <thead>\n",
       "    <tr style=\"text-align: right;\">\n",
       "      <th></th>\n",
       "      <th>id</th>\n",
       "      <th>timestamp</th>\n",
       "      <th>derived_0</th>\n",
       "      <th>derived_1</th>\n",
       "      <th>derived_2</th>\n",
       "      <th>derived_3</th>\n",
       "      <th>derived_4</th>\n",
       "      <th>fundamental_0</th>\n",
       "      <th>fundamental_1</th>\n",
       "      <th>fundamental_2</th>\n",
       "      <th>...</th>\n",
       "      <th>technical_35</th>\n",
       "      <th>technical_36</th>\n",
       "      <th>technical_37</th>\n",
       "      <th>technical_38</th>\n",
       "      <th>technical_39</th>\n",
       "      <th>technical_40</th>\n",
       "      <th>technical_41</th>\n",
       "      <th>technical_42</th>\n",
       "      <th>technical_43</th>\n",
       "      <th>technical_44</th>\n",
       "    </tr>\n",
       "  </thead>\n",
       "  <tbody>\n",
       "    <tr>\n",
       "      <th>0</th>\n",
       "      <td>0</td>\n",
       "      <td>906</td>\n",
       "      <td>0.246848</td>\n",
       "      <td>0.102251</td>\n",
       "      <td>0.002781</td>\n",
       "      <td>-0.029337</td>\n",
       "      <td>0.400748</td>\n",
       "      <td>-0.273942</td>\n",
       "      <td>0.535335</td>\n",
       "      <td>0.243197</td>\n",
       "      <td>...</td>\n",
       "      <td>-0.083835</td>\n",
       "      <td>-0.193842</td>\n",
       "      <td>-4.642828e-10</td>\n",
       "      <td>-4.642828e-10</td>\n",
       "      <td>-4.436047e-10</td>\n",
       "      <td>-0.057845</td>\n",
       "      <td>-0.054224</td>\n",
       "      <td>4.406503e-05</td>\n",
       "      <td>-1.999907e+00</td>\n",
       "      <td>-0.052079</td>\n",
       "    </tr>\n",
       "    <tr>\n",
       "      <th>1</th>\n",
       "      <td>7</td>\n",
       "      <td>906</td>\n",
       "      <td>0.217796</td>\n",
       "      <td>1.922894</td>\n",
       "      <td>0.752644</td>\n",
       "      <td>-0.237133</td>\n",
       "      <td>0.149876</td>\n",
       "      <td>-0.324906</td>\n",
       "      <td>-0.110032</td>\n",
       "      <td>-0.493290</td>\n",
       "      <td>...</td>\n",
       "      <td>-0.003478</td>\n",
       "      <td>-0.139345</td>\n",
       "      <td>-1.562500e-02</td>\n",
       "      <td>-1.562500e-02</td>\n",
       "      <td>-1.562500e-02</td>\n",
       "      <td>-0.017113</td>\n",
       "      <td>-0.067621</td>\n",
       "      <td>-1.562500e-02</td>\n",
       "      <td>-3.330669e-16</td>\n",
       "      <td>0.010135</td>\n",
       "    </tr>\n",
       "    <tr>\n",
       "      <th>2</th>\n",
       "      <td>11</td>\n",
       "      <td>906</td>\n",
       "      <td>-0.074121</td>\n",
       "      <td>-0.057722</td>\n",
       "      <td>1.595148</td>\n",
       "      <td>0.311800</td>\n",
       "      <td>-0.003560</td>\n",
       "      <td>0.274813</td>\n",
       "      <td>0.088182</td>\n",
       "      <td>-0.170704</td>\n",
       "      <td>...</td>\n",
       "      <td>-0.073679</td>\n",
       "      <td>-0.083068</td>\n",
       "      <td>-3.359413e-15</td>\n",
       "      <td>-7.448059e-23</td>\n",
       "      <td>-7.128695e-01</td>\n",
       "      <td>-0.045347</td>\n",
       "      <td>-0.094896</td>\n",
       "      <td>-7.277103e-01</td>\n",
       "      <td>-1.968750e+00</td>\n",
       "      <td>0.025098</td>\n",
       "    </tr>\n",
       "    <tr>\n",
       "      <th>3</th>\n",
       "      <td>12</td>\n",
       "      <td>906</td>\n",
       "      <td>0.160421</td>\n",
       "      <td>-0.037247</td>\n",
       "      <td>0.455026</td>\n",
       "      <td>0.022488</td>\n",
       "      <td>0.154796</td>\n",
       "      <td>-0.079147</td>\n",
       "      <td>0.865164</td>\n",
       "      <td>0.016182</td>\n",
       "      <td>...</td>\n",
       "      <td>0.471345</td>\n",
       "      <td>0.467192</td>\n",
       "      <td>-5.463366e-24</td>\n",
       "      <td>-6.938400e-04</td>\n",
       "      <td>-6.144731e-33</td>\n",
       "      <td>-0.030753</td>\n",
       "      <td>-0.240190</td>\n",
       "      <td>0.000000e+00</td>\n",
       "      <td>-1.301181e-13</td>\n",
       "      <td>-0.001249</td>\n",
       "    </tr>\n",
       "    <tr>\n",
       "      <th>4</th>\n",
       "      <td>13</td>\n",
       "      <td>906</td>\n",
       "      <td>-0.025554</td>\n",
       "      <td>-0.046826</td>\n",
       "      <td>NaN</td>\n",
       "      <td>-0.026069</td>\n",
       "      <td>NaN</td>\n",
       "      <td>-0.049894</td>\n",
       "      <td>0.046646</td>\n",
       "      <td>NaN</td>\n",
       "      <td>...</td>\n",
       "      <td>0.115415</td>\n",
       "      <td>0.090820</td>\n",
       "      <td>-3.105529e-20</td>\n",
       "      <td>-1.614121e-21</td>\n",
       "      <td>0.000000e+00</td>\n",
       "      <td>-0.133357</td>\n",
       "      <td>-0.068176</td>\n",
       "      <td>-5.743766e-24</td>\n",
       "      <td>-3.330669e-16</td>\n",
       "      <td>0.019396</td>\n",
       "    </tr>\n",
       "  </tbody>\n",
       "</table>\n",
       "<p>5 rows × 110 columns</p>\n",
       "</div>"
      ],
      "text/plain": [
       "   id  timestamp  derived_0  derived_1  derived_2  derived_3  derived_4  \\\n",
       "0   0        906   0.246848   0.102251   0.002781  -0.029337   0.400748   \n",
       "1   7        906   0.217796   1.922894   0.752644  -0.237133   0.149876   \n",
       "2  11        906  -0.074121  -0.057722   1.595148   0.311800  -0.003560   \n",
       "3  12        906   0.160421  -0.037247   0.455026   0.022488   0.154796   \n",
       "4  13        906  -0.025554  -0.046826        NaN  -0.026069        NaN   \n",
       "\n",
       "   fundamental_0  fundamental_1  fundamental_2      ...       technical_35  \\\n",
       "0      -0.273942       0.535335       0.243197      ...          -0.083835   \n",
       "1      -0.324906      -0.110032      -0.493290      ...          -0.003478   \n",
       "2       0.274813       0.088182      -0.170704      ...          -0.073679   \n",
       "3      -0.079147       0.865164       0.016182      ...           0.471345   \n",
       "4      -0.049894       0.046646            NaN      ...           0.115415   \n",
       "\n",
       "   technical_36  technical_37  technical_38  technical_39  technical_40  \\\n",
       "0     -0.193842 -4.642828e-10 -4.642828e-10 -4.436047e-10     -0.057845   \n",
       "1     -0.139345 -1.562500e-02 -1.562500e-02 -1.562500e-02     -0.017113   \n",
       "2     -0.083068 -3.359413e-15 -7.448059e-23 -7.128695e-01     -0.045347   \n",
       "3      0.467192 -5.463366e-24 -6.938400e-04 -6.144731e-33     -0.030753   \n",
       "4      0.090820 -3.105529e-20 -1.614121e-21  0.000000e+00     -0.133357   \n",
       "\n",
       "   technical_41  technical_42  technical_43  technical_44  \n",
       "0     -0.054224  4.406503e-05 -1.999907e+00     -0.052079  \n",
       "1     -0.067621 -1.562500e-02 -3.330669e-16      0.010135  \n",
       "2     -0.094896 -7.277103e-01 -1.968750e+00      0.025098  \n",
       "3     -0.240190  0.000000e+00 -1.301181e-13     -0.001249  \n",
       "4     -0.068176 -5.743766e-24 -3.330669e-16      0.019396  \n",
       "\n",
       "[5 rows x 110 columns]"
      ]
     },
     "execution_count": 10,
     "metadata": {},
     "output_type": "execute_result"
    }
   ],
   "source": [
    "observation.features.head()"
   ]
  },
  {
   "cell_type": "code",
   "execution_count": 11,
   "metadata": {
    "collapsed": false
   },
   "outputs": [
    {
     "data": {
      "text/html": [
       "<div>\n",
       "<table border=\"1\" class=\"dataframe\">\n",
       "  <thead>\n",
       "    <tr style=\"text-align: right;\">\n",
       "      <th></th>\n",
       "      <th>id</th>\n",
       "      <th>y</th>\n",
       "    </tr>\n",
       "  </thead>\n",
       "  <tbody>\n",
       "    <tr>\n",
       "      <th>0</th>\n",
       "      <td>0</td>\n",
       "      <td>0.0</td>\n",
       "    </tr>\n",
       "    <tr>\n",
       "      <th>1</th>\n",
       "      <td>7</td>\n",
       "      <td>0.0</td>\n",
       "    </tr>\n",
       "    <tr>\n",
       "      <th>2</th>\n",
       "      <td>11</td>\n",
       "      <td>0.0</td>\n",
       "    </tr>\n",
       "    <tr>\n",
       "      <th>3</th>\n",
       "      <td>12</td>\n",
       "      <td>0.0</td>\n",
       "    </tr>\n",
       "    <tr>\n",
       "      <th>4</th>\n",
       "      <td>13</td>\n",
       "      <td>0.0</td>\n",
       "    </tr>\n",
       "  </tbody>\n",
       "</table>\n",
       "</div>"
      ],
      "text/plain": [
       "   id    y\n",
       "0   0  0.0\n",
       "1   7  0.0\n",
       "2  11  0.0\n",
       "3  12  0.0\n",
       "4  13  0.0"
      ]
     },
     "execution_count": 11,
     "metadata": {},
     "output_type": "execute_result"
    }
   ],
   "source": [
    "observation.target.head()"
   ]
  },
  {
   "cell_type": "code",
   "execution_count": 12,
   "metadata": {
    "collapsed": true
   },
   "outputs": [],
   "source": [
    "action = observation.target\n",
    "observation, reward, done, info = env.step(action)"
   ]
  },
  {
   "cell_type": "code",
   "execution_count": 13,
   "metadata": {
    "collapsed": false
   },
   "outputs": [
    {
     "data": {
      "text/plain": [
       "False"
      ]
     },
     "execution_count": 13,
     "metadata": {},
     "output_type": "execute_result"
    }
   ],
   "source": [
    "done"
   ]
  },
  {
   "cell_type": "code",
   "execution_count": 14,
   "metadata": {
    "collapsed": false
   },
   "outputs": [
    {
     "data": {
      "text/plain": [
       "{}"
      ]
     },
     "execution_count": 14,
     "metadata": {},
     "output_type": "execute_result"
    }
   ],
   "source": [
    "info"
   ]
  },
  {
   "cell_type": "code",
   "execution_count": 15,
   "metadata": {
    "collapsed": false
   },
   "outputs": [
    {
     "data": {
      "text/html": [
       "<div>\n",
       "<table border=\"1\" class=\"dataframe\">\n",
       "  <thead>\n",
       "    <tr style=\"text-align: right;\">\n",
       "      <th></th>\n",
       "      <th>id</th>\n",
       "      <th>timestamp</th>\n",
       "      <th>derived_0</th>\n",
       "      <th>derived_1</th>\n",
       "      <th>derived_2</th>\n",
       "      <th>derived_3</th>\n",
       "      <th>derived_4</th>\n",
       "      <th>fundamental_0</th>\n",
       "      <th>fundamental_1</th>\n",
       "      <th>fundamental_2</th>\n",
       "      <th>...</th>\n",
       "      <th>technical_35</th>\n",
       "      <th>technical_36</th>\n",
       "      <th>technical_37</th>\n",
       "      <th>technical_38</th>\n",
       "      <th>technical_39</th>\n",
       "      <th>technical_40</th>\n",
       "      <th>technical_41</th>\n",
       "      <th>technical_42</th>\n",
       "      <th>technical_43</th>\n",
       "      <th>technical_44</th>\n",
       "    </tr>\n",
       "  </thead>\n",
       "  <tbody>\n",
       "    <tr>\n",
       "      <th>0</th>\n",
       "      <td>0</td>\n",
       "      <td>907</td>\n",
       "      <td>0.241634</td>\n",
       "      <td>0.101084</td>\n",
       "      <td>0.002550</td>\n",
       "      <td>-0.028882</td>\n",
       "      <td>0.398276</td>\n",
       "      <td>-0.272570</td>\n",
       "      <td>0.538591</td>\n",
       "      <td>0.241426</td>\n",
       "      <td>...</td>\n",
       "      <td>-0.081623</td>\n",
       "      <td>-0.194489</td>\n",
       "      <td>-4.041816e-10</td>\n",
       "      <td>-4.041816e-10</td>\n",
       "      <td>-3.861803e-10</td>\n",
       "      <td>-0.057166</td>\n",
       "      <td>-0.055835</td>\n",
       "      <td>3.836084e-05</td>\n",
       "      <td>-1.999919e+00</td>\n",
       "      <td>-0.049153</td>\n",
       "    </tr>\n",
       "    <tr>\n",
       "      <th>1</th>\n",
       "      <td>7</td>\n",
       "      <td>907</td>\n",
       "      <td>0.204701</td>\n",
       "      <td>1.925502</td>\n",
       "      <td>0.753222</td>\n",
       "      <td>-0.237052</td>\n",
       "      <td>0.154132</td>\n",
       "      <td>-0.324891</td>\n",
       "      <td>-0.110032</td>\n",
       "      <td>-0.495813</td>\n",
       "      <td>...</td>\n",
       "      <td>-0.005009</td>\n",
       "      <td>-0.144726</td>\n",
       "      <td>-1.360235e-02</td>\n",
       "      <td>-1.360235e-02</td>\n",
       "      <td>-1.360235e-02</td>\n",
       "      <td>-0.017764</td>\n",
       "      <td>-0.087472</td>\n",
       "      <td>-1.360235e-02</td>\n",
       "      <td>-3.330669e-16</td>\n",
       "      <td>0.008787</td>\n",
       "    </tr>\n",
       "    <tr>\n",
       "      <th>2</th>\n",
       "      <td>11</td>\n",
       "      <td>907</td>\n",
       "      <td>-0.073517</td>\n",
       "      <td>-0.057697</td>\n",
       "      <td>1.611172</td>\n",
       "      <td>0.310672</td>\n",
       "      <td>-0.003293</td>\n",
       "      <td>0.272259</td>\n",
       "      <td>0.088949</td>\n",
       "      <td>-0.171558</td>\n",
       "      <td>...</td>\n",
       "      <td>-0.071035</td>\n",
       "      <td>-0.082874</td>\n",
       "      <td>-2.924539e-15</td>\n",
       "      <td>-6.483912e-23</td>\n",
       "      <td>-7.500384e-01</td>\n",
       "      <td>-0.045536</td>\n",
       "      <td>-0.104290</td>\n",
       "      <td>-7.629580e-01</td>\n",
       "      <td>-1.972795e+00</td>\n",
       "      <td>0.021927</td>\n",
       "    </tr>\n",
       "    <tr>\n",
       "      <th>3</th>\n",
       "      <td>12</td>\n",
       "      <td>907</td>\n",
       "      <td>0.160591</td>\n",
       "      <td>-0.037544</td>\n",
       "      <td>0.450525</td>\n",
       "      <td>0.021005</td>\n",
       "      <td>0.153457</td>\n",
       "      <td>-0.077793</td>\n",
       "      <td>0.858471</td>\n",
       "      <td>0.016490</td>\n",
       "      <td>...</td>\n",
       "      <td>0.474488</td>\n",
       "      <td>0.469150</td>\n",
       "      <td>-4.756136e-24</td>\n",
       "      <td>-6.040228e-04</td>\n",
       "      <td>-5.349299e-33</td>\n",
       "      <td>-0.030443</td>\n",
       "      <td>-0.222433</td>\n",
       "      <td>0.000000e+00</td>\n",
       "      <td>-1.132427e-13</td>\n",
       "      <td>-0.001827</td>\n",
       "    </tr>\n",
       "    <tr>\n",
       "      <th>4</th>\n",
       "      <td>13</td>\n",
       "      <td>907</td>\n",
       "      <td>-0.025554</td>\n",
       "      <td>-0.046826</td>\n",
       "      <td>NaN</td>\n",
       "      <td>-0.026069</td>\n",
       "      <td>NaN</td>\n",
       "      <td>-0.049894</td>\n",
       "      <td>0.046646</td>\n",
       "      <td>NaN</td>\n",
       "      <td>...</td>\n",
       "      <td>0.115415</td>\n",
       "      <td>0.090820</td>\n",
       "      <td>-2.703520e-20</td>\n",
       "      <td>-1.405174e-21</td>\n",
       "      <td>0.000000e+00</td>\n",
       "      <td>-0.133357</td>\n",
       "      <td>-0.054863</td>\n",
       "      <td>-5.000239e-24</td>\n",
       "      <td>-3.330669e-16</td>\n",
       "      <td>0.019338</td>\n",
       "    </tr>\n",
       "  </tbody>\n",
       "</table>\n",
       "<p>5 rows × 110 columns</p>\n",
       "</div>"
      ],
      "text/plain": [
       "   id  timestamp  derived_0  derived_1  derived_2  derived_3  derived_4  \\\n",
       "0   0        907   0.241634   0.101084   0.002550  -0.028882   0.398276   \n",
       "1   7        907   0.204701   1.925502   0.753222  -0.237052   0.154132   \n",
       "2  11        907  -0.073517  -0.057697   1.611172   0.310672  -0.003293   \n",
       "3  12        907   0.160591  -0.037544   0.450525   0.021005   0.153457   \n",
       "4  13        907  -0.025554  -0.046826        NaN  -0.026069        NaN   \n",
       "\n",
       "   fundamental_0  fundamental_1  fundamental_2      ...       technical_35  \\\n",
       "0      -0.272570       0.538591       0.241426      ...          -0.081623   \n",
       "1      -0.324891      -0.110032      -0.495813      ...          -0.005009   \n",
       "2       0.272259       0.088949      -0.171558      ...          -0.071035   \n",
       "3      -0.077793       0.858471       0.016490      ...           0.474488   \n",
       "4      -0.049894       0.046646            NaN      ...           0.115415   \n",
       "\n",
       "   technical_36  technical_37  technical_38  technical_39  technical_40  \\\n",
       "0     -0.194489 -4.041816e-10 -4.041816e-10 -3.861803e-10     -0.057166   \n",
       "1     -0.144726 -1.360235e-02 -1.360235e-02 -1.360235e-02     -0.017764   \n",
       "2     -0.082874 -2.924539e-15 -6.483912e-23 -7.500384e-01     -0.045536   \n",
       "3      0.469150 -4.756136e-24 -6.040228e-04 -5.349299e-33     -0.030443   \n",
       "4      0.090820 -2.703520e-20 -1.405174e-21  0.000000e+00     -0.133357   \n",
       "\n",
       "   technical_41  technical_42  technical_43  technical_44  \n",
       "0     -0.055835  3.836084e-05 -1.999919e+00     -0.049153  \n",
       "1     -0.087472 -1.360235e-02 -3.330669e-16      0.008787  \n",
       "2     -0.104290 -7.629580e-01 -1.972795e+00      0.021927  \n",
       "3     -0.222433  0.000000e+00 -1.132427e-13     -0.001827  \n",
       "4     -0.054863 -5.000239e-24 -3.330669e-16      0.019338  \n",
       "\n",
       "[5 rows x 110 columns]"
      ]
     },
     "execution_count": 15,
     "metadata": {},
     "output_type": "execute_result"
    }
   ],
   "source": [
    "observation.features.head()"
   ]
  },
  {
   "cell_type": "code",
   "execution_count": 16,
   "metadata": {
    "collapsed": false
   },
   "outputs": [
    {
     "data": {
      "text/plain": [
       "968"
      ]
     },
     "execution_count": 16,
     "metadata": {},
     "output_type": "execute_result"
    }
   ],
   "source": [
    "len(observation.features)"
   ]
  },
  {
   "cell_type": "code",
   "execution_count": 17,
   "metadata": {
    "collapsed": false
   },
   "outputs": [
    {
     "data": {
      "text/plain": [
       "-0.2000274424971549"
      ]
     },
     "execution_count": 17,
     "metadata": {},
     "output_type": "execute_result"
    }
   ],
   "source": [
    "reward"
   ]
  },
  {
   "cell_type": "code",
   "execution_count": 18,
   "metadata": {
    "collapsed": false
   },
   "outputs": [],
   "source": [
    "perfect_action = df[df[\"timestamp\"] == observation.features[\"timestamp\"][0]][[\"id\", \"y\"]].reset_index(drop=True)"
   ]
  },
  {
   "cell_type": "code",
   "execution_count": 19,
   "metadata": {
    "collapsed": false
   },
   "outputs": [
    {
     "data": {
      "text/html": [
       "<div>\n",
       "<table border=\"1\" class=\"dataframe\">\n",
       "  <thead>\n",
       "    <tr style=\"text-align: right;\">\n",
       "      <th></th>\n",
       "      <th>id</th>\n",
       "      <th>y</th>\n",
       "    </tr>\n",
       "  </thead>\n",
       "  <tbody>\n",
       "    <tr>\n",
       "      <th>0</th>\n",
       "      <td>0</td>\n",
       "      <td>-0.003758</td>\n",
       "    </tr>\n",
       "    <tr>\n",
       "      <th>1</th>\n",
       "      <td>7</td>\n",
       "      <td>-0.009357</td>\n",
       "    </tr>\n",
       "    <tr>\n",
       "      <th>2</th>\n",
       "      <td>11</td>\n",
       "      <td>-0.001851</td>\n",
       "    </tr>\n",
       "    <tr>\n",
       "      <th>3</th>\n",
       "      <td>12</td>\n",
       "      <td>0.003090</td>\n",
       "    </tr>\n",
       "    <tr>\n",
       "      <th>4</th>\n",
       "      <td>13</td>\n",
       "      <td>0.008478</td>\n",
       "    </tr>\n",
       "  </tbody>\n",
       "</table>\n",
       "</div>"
      ],
      "text/plain": [
       "   id         y\n",
       "0   0 -0.003758\n",
       "1   7 -0.009357\n",
       "2  11 -0.001851\n",
       "3  12  0.003090\n",
       "4  13  0.008478"
      ]
     },
     "execution_count": 19,
     "metadata": {},
     "output_type": "execute_result"
    }
   ],
   "source": [
    "perfect_action.head()"
   ]
  },
  {
   "cell_type": "code",
   "execution_count": 20,
   "metadata": {
    "collapsed": true
   },
   "outputs": [],
   "source": [
    "observation, reward, done, info = env.step(perfect_action)"
   ]
  },
  {
   "cell_type": "code",
   "execution_count": 21,
   "metadata": {
    "collapsed": false
   },
   "outputs": [
    {
     "data": {
      "text/plain": [
       "1.0"
      ]
     },
     "execution_count": 21,
     "metadata": {},
     "output_type": "execute_result"
    }
   ],
   "source": [
    "reward"
   ]
  },
  {
   "cell_type": "code",
   "execution_count": 22,
   "metadata": {
    "collapsed": false
   },
   "outputs": [
    {
     "data": {
      "text/plain": [
       "False"
      ]
     },
     "execution_count": 22,
     "metadata": {},
     "output_type": "execute_result"
    }
   ],
   "source": [
    "done"
   ]
  },
  {
   "cell_type": "code",
   "execution_count": 23,
   "metadata": {
    "collapsed": false,
    "scrolled": true
   },
   "outputs": [
    {
     "name": "stdout",
     "output_type": "stream",
     "text": [
      "Timestamp #1000\n",
      "Timestamp #1100\n",
      "Timestamp #1200\n",
      "Timestamp #1300\n",
      "Timestamp #1400\n",
      "Timestamp #1500\n",
      "Timestamp #1600\n",
      "Timestamp #1700\n",
      "Timestamp #1800\n"
     ]
    }
   ],
   "source": [
    "while True:\n",
    "    target = observation.target\n",
    "    timestamp = observation.features[\"timestamp\"][0]\n",
    "    if timestamp % 100 == 0:\n",
    "        print(\"Timestamp #{}\".format(timestamp))\n",
    "\n",
    "    observation, reward, done, info = env.step(target)\n",
    "    if done:        \n",
    "        break"
   ]
  },
  {
   "cell_type": "code",
   "execution_count": 24,
   "metadata": {
    "collapsed": false
   },
   "outputs": [
    {
     "data": {
      "text/plain": [
       "{'public_score': 0.016651181430087304}"
      ]
     },
     "execution_count": 24,
     "metadata": {},
     "output_type": "execute_result"
    }
   ],
   "source": [
    "info"
   ]
  },
  {
   "cell_type": "code",
   "execution_count": null,
   "metadata": {
    "collapsed": true
   },
   "outputs": [],
   "source": []
  }
 ],
 "metadata": {
  "anaconda-cloud": {},
  "kernelspec": {
   "display_name": "Python [conda root]",
   "language": "python",
   "name": "conda-root-py"
  },
  "language_info": {
   "codemirror_mode": {
    "name": "ipython",
    "version": 3
   },
   "file_extension": ".py",
   "mimetype": "text/x-python",
   "name": "python",
   "nbconvert_exporter": "python",
   "pygments_lexer": "ipython3",
   "version": "3.5.2"
  }
 },
 "nbformat": 4,
 "nbformat_minor": 1
}
